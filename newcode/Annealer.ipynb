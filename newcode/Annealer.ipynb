{
 "cells": [
  {
   "cell_type": "code",
   "execution_count": null,
   "metadata": {},
   "outputs": [],
   "source": [
    "import numpy as np\n",
    "import constants as cst\n",
    "class Annealer():\n",
    "    def ConstantStep(res,f):\n",
    "        n=cst.steps #n is from yaml file: the number of steps to do the annealing\n",
    "        process=[] #required post processing from yaml file\n",
    "        arr_step=np.linspace(0,1,n)\n",
    "        flag_prog=0\n",
    "        for t in arr_step:\n",
    "            res.updatetraction(t)\n",
    "            res.calculate_residual(f)\n",
    "            res.solve()\n",
    "            postprocess(t,process,flag_prog)\n",
    "        flag_prog=1\n",
    "        postprocess(t,process,flag_prog)\n",
    "                    \n",
    "    def postprocess(t,process,flag):\n",
    "        for i in process:\n",
    "            if i==\"pvd\" and flag==0:\n",
    "                P=toPVD()\n",
    "                P.store(t,f)\n",
    "            else if i==\"npy\" and flag==0:\n",
    "                P=toNPY()\n",
    "                P.store(t,f)\n",
    "            else if i==\"pltDisp\" and flag==1:\n",
    "                P=toDisPLT()\n",
    "                P.store(t,f)\n",
    "            \n",
    "            \n",
    "    "
   ]
  }
 ],
 "metadata": {
  "kernelspec": {
   "display_name": "femtastic [~/.conda/envs/femtastic/]",
   "language": "python",
   "name": "conda_femtastic"
  },
  "language_info": {
   "codemirror_mode": {
    "name": "ipython",
    "version": 3
   },
   "file_extension": ".py",
   "mimetype": "text/x-python",
   "name": "python",
   "nbconvert_exporter": "python",
   "pygments_lexer": "ipython3",
   "version": "3.10.0"
  }
 },
 "nbformat": 4,
 "nbformat_minor": 2
}
