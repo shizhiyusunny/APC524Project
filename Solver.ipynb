{
 "cells": [
  {
   "cell_type": "code",
   "execution_count": null,
   "metadata": {},
   "outputs": [],
   "source": [
    "from fenics import *\n",
    "import numpy as np\n",
    "import constants as cst\n",
    "class Solver():\n",
    "    def __init__(self,mesh):\n",
    "        self.mesh=mesh\n",
    "        self.tf=cst.tfinal\n",
    "        self.delt=cst.tstep\n",
    "        u=[]   \n",
    "        c_trans=[]\n",
    "        c_rot=[]\n",
    "        strain=[]\n",
    "        stress=[]\n",
    "        disp=[]\n",
    "    def constantStep(self):\n",
    "        arr_time=np.linspace(0,self.tf,self.delt)\n",
    "        ###Append Initial Conditions Here!!!\n",
    "        for i in arr_time:\n",
    "            Res=Energyfunction() ####\n",
    "            mySim=Simulator(self.mesh)\n",
    "            u_i,c_trans_i,c_rot_i, strain_i, stress_i, disp_i=mySim.stepForward(Res)\n",
    "            self.u.append(u_i)\n",
    "            self.c_trans.append(c_trans_i)\n",
    "            self.c_rot.append(c_rot_i)\n",
    "            self.strain.append(strain_i)\n",
    "            self.stress.append(stress_i)\n",
    "            self.disp.append(disp_i)\n",
    "        return self.u, self.strain, self.stress, self.disp\n",
    "    def adaptiveStep(self):\n",
    "        pass\n",
    "\n",
    "        "
   ]
  }
 ],
 "metadata": {
  "kernelspec": {
   "display_name": "femtastic [~/.conda/envs/femtastic/]",
   "language": "python",
   "name": "conda_femtastic"
  },
  "language_info": {
   "codemirror_mode": {
    "name": "ipython",
    "version": 3
   },
   "file_extension": ".py",
   "mimetype": "text/x-python",
   "name": "python",
   "nbconvert_exporter": "python",
   "pygments_lexer": "ipython3",
   "version": "3.10.0"
  }
 },
 "nbformat": 4,
 "nbformat_minor": 2
}
