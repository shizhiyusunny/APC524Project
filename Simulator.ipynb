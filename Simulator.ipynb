{
 "cells": [
  {
   "cell_type": "code",
   "execution_count": null,
   "metadata": {},
   "outputs": [],
   "source": [
    "from fenics import *\n",
    "import numpy as np\n",
    "import constant #Access to constant\n",
    "class Simulator:\n",
    "    def __init__(self,f,mesh):\n",
    "        self.f=f #function space for the result\n",
    "        self.mesh=mesh\n",
    "        self.strain=[]\n",
    "        self.stress=[]\n",
    "        self.disp=[]\n",
    "    def stepfoward(Res):\n",
    "        solve(Res == 0, f)\n",
    "        u, c_trans, c_rot = split(f)\n",
    "        strain=sym(grad(u))\n",
    "        stress=2*mu*epsilon(u) + Lambda*tr(epsilon(u))*Identity(d) # Assume we know mu, lambda, and d from global constants\n",
    "        VFS = VectorFunctionSpace(mesh, 'Lagrange', 1)\n",
    "        disp=project(u, VFS)\n",
    "        return f\n",
    "        "
   ]
  }
 ],
 "metadata": {
  "kernelspec": {
   "display_name": "femtastic [~/.conda/envs/femtastic/]",
   "language": "python",
   "name": "conda_femtastic"
  },
  "language_info": {
   "codemirror_mode": {
    "name": "ipython",
    "version": 3
   },
   "file_extension": ".py",
   "mimetype": "text/x-python",
   "name": "python",
   "nbconvert_exporter": "python",
   "pygments_lexer": "ipython3",
   "version": "3.10.0"
  }
 },
 "nbformat": 4,
 "nbformat_minor": 2
}
