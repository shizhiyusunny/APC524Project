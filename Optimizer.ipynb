{
 "cells": [
  {
   "cell_type": "code",
   "execution_count": null,
   "metadata": {},
   "outputs": [],
   "source": [
    "from fenics import *\n",
    "import numpy as np\n",
    "import constants as cst\n",
    "class Optimizer():\n",
    "    def __init__(self,mesh):\n",
    "        self.eps=cst.threshold #read from constants from user input\n",
    "        self.maxmesh=cst.meshsize #read from constants from user input\n",
    "        self.iterations=cst.iterations\n",
    "        self.error=0\n",
    "        self.optsize=0\n",
    "        self.mesh=mesh\n",
    "\n",
    "    def optimizeMesh(self):\n",
    "        while self.error>=self.eps:\n",
    "            if self.optsize>self.maxmesh:\n",
    "                break\n",
    "            else:\n",
    "                arr_mesh=np.linspace(0,self.maxmesh,self.iterations).astype(int)\n",
    "                disp_last=0\n",
    "                for i in arr_mesh:\n",
    "                    #Remash the whole structure\n",
    "                    #Solve it\n",
    "                    mySolver=Solver(myMesh)\n",
    "                    res=mySolver.constantStep()\n",
    "                    disp_now=res[3][-1][-1]\n",
    "                    error=(disp_now-disp_last)/disp_last\n",
    "                    disp_last=dis_now\n",
    "                    self.optsize=i\n",
    "        return self.optsize\n",
    "        \n",
    "                \n",
    "                    \n",
    "                    \n",
    "                "
   ]
  }
 ],
 "metadata": {
  "kernelspec": {
   "display_name": "femtastic [~/.conda/envs/femtastic/]",
   "language": "python",
   "name": "conda_femtastic"
  },
  "language_info": {
   "codemirror_mode": {
    "name": "ipython",
    "version": 3
   },
   "file_extension": ".py",
   "mimetype": "text/x-python",
   "name": "python",
   "nbconvert_exporter": "python",
   "pygments_lexer": "ipython3",
   "version": "3.10.0"
  }
 },
 "nbformat": 4,
 "nbformat_minor": 2
}
