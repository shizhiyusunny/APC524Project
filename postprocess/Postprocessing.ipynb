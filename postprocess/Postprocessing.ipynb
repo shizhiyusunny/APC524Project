{
 "cells": [
  {
   "cell_type": "code",
   "execution_count": null,
   "metadata": {},
   "outputs": [],
   "source": [
    "from abc import ABC, abstractmethod\n",
    "from fenics import *\n",
    "import constant as cst\n",
    "import matplotlib.pyplot as plt\n",
    "\n",
    "class Postprocessing(ABC):\n",
    "    @abstractmethod\n",
    "    def store(t,f):\n",
    "        pass\n",
    "class toPVD(Postprocessing):\n",
    "    def store(t,f):\n",
    "        if cst.storeStress=True:\n",
    "            u=f.stress\n",
    "            u.rename(\"stress\",\"\")\n",
    "            fileD = File(\"data/stress.pvd\")\n",
    "            fileD << u\n",
    "        if cst.storeDisplacement=True:\n",
    "            u=f.displacement\n",
    "            u.rename(\"stress\",\"\")\n",
    "            fileD = File(\"data/displacement.pvd\")\n",
    "            fileD << u\n",
    "class toNPY(Postprocessing):\n",
    "    def store(t,f):\n",
    "        if cst.storeStress=True:\n",
    "            u=f.stress\n",
    "            arr_u=u.compute_vertex_values()\n",
    "            fileD = File(\"data/stress.txt\")\n",
    "            fileD << arr_u\n",
    "        if cst.storeDisplacement=True:\n",
    "            u=f.displacement\n",
    "            arr_u=u.compute_vertex_values()\n",
    "            fileD = File(\"data/displacement.txt\")\n",
    "            fileD << arr_u\n",
    "class toDisPLT(Postprocessing):\n",
    "    def store(t,f):\n",
    "        #Get Mesh in this step!!!\n",
    "        a=plt.figure(0)\n",
    "        plt.plot(mesh,linewidth=0.3)\n",
    "        plt.plot(f.displacement, mode='color')\n",
    "        plt.savefig('figure/displacement.png')"
   ]
  }
 ],
 "metadata": {
  "kernelspec": {
   "display_name": "femtastic [~/.conda/envs/femtastic/]",
   "language": "python",
   "name": "conda_femtastic"
  },
  "language_info": {
   "codemirror_mode": {
    "name": "ipython",
    "version": 3
   },
   "file_extension": ".py",
   "mimetype": "text/x-python",
   "name": "python",
   "nbconvert_exporter": "python",
   "pygments_lexer": "ipython3",
   "version": "3.10.0"
  }
 },
 "nbformat": 4,
 "nbformat_minor": 2
}
