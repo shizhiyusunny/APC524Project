{
 "cells": [
  {
   "cell_type": "code",
   "execution_count": null,
   "metadata": {},
   "outputs": [],
   "source": [
    "from fenics import *\n",
    "class ymlReader:\n",
    "    def read(inpus):\n",
    "        Nsteps=0\n",
    "        process=[]\n",
    "        for key, val in inputs.items():\n",
    "            if key == 'AnnealingStep':\n",
    "                Nsteps=val\n",
    "            if key == 'process':\n",
    "                for v in val:\n",
    "                    process.append(v)\n",
    "        return Nsteps, process"
   ]
  }
 ],
 "metadata": {
  "kernelspec": {
   "display_name": "femtastic [~/.conda/envs/femtastic/]",
   "language": "python",
   "name": "conda_femtastic"
  },
  "language_info": {
   "codemirror_mode": {
    "name": "ipython",
    "version": 3
   },
   "file_extension": ".py",
   "mimetype": "text/x-python",
   "name": "python",
   "nbconvert_exporter": "python",
   "pygments_lexer": "ipython3",
   "version": "3.10.0"
  }
 },
 "nbformat": 4,
 "nbformat_minor": 2
}
