{
 "cells": [
  {
   "cell_type": "code",
   "execution_count": null,
   "metadata": {},
   "outputs": [],
   "source": [
    "from abc import ABC, abstractmethod\n",
    "\n",
    "class Postprocessing(ABC):\n",
    "    @abstractmethod\n",
    "    def store(t,f):\n",
    "        pass\n",
    "    def postprocess(t,process,flag):\n",
    "        from . import toPVD toNPY toPLT\n",
    "        for i in process:\n",
    "            if i==\"pvd\" and flag==0:\n",
    "                P=toPVD()\n",
    "                P.store(t,f)\n",
    "            else if i==\"npy\" and flag==0:\n",
    "                P=toNPY()\n",
    "                P.store(t,f)\n",
    "            else if i==\"pltDisp\" and flag==1:\n",
    "                P=toDisPLT()\n",
    "                P.store(t,f)\n"
   ]
  }
 ],
 "metadata": {
  "kernelspec": {
   "display_name": "femtastic [~/.conda/envs/femtastic/]",
   "language": "python",
   "name": "conda_femtastic"
  },
  "language_info": {
   "codemirror_mode": {
    "name": "ipython",
    "version": 3
   },
   "file_extension": ".py",
   "mimetype": "text/x-python",
   "name": "python",
   "nbconvert_exporter": "python",
   "pygments_lexer": "ipython3",
   "version": "3.10.0"
  }
 },
 "nbformat": 4,
 "nbformat_minor": 2
}
