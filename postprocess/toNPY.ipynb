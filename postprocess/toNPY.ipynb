{
 "cells": [
  {
   "cell_type": "code",
   "execution_count": null,
   "metadata": {},
   "outputs": [],
   "source": [
    "from . import Postprocessing\n",
    "from fenics import *\n",
    "\n",
    "class toNPY(Postprocessing):\n",
    "    def store(t,f):\n",
    "        cst.storeDisplacement=True:\n",
    "        u=f.displacement\n",
    "        arr_u=u.compute_vertex_values()\n",
    "        fileD = File(\"data/displacement.txt\")\n",
    "        fileD << arr_u"
   ]
  }
 ],
 "metadata": {
  "kernelspec": {
   "display_name": "femtastic [~/.conda/envs/femtastic/]",
   "language": "python",
   "name": "conda_femtastic"
  },
  "language_info": {
   "codemirror_mode": {
    "name": "ipython",
    "version": 3
   },
   "file_extension": ".py",
   "mimetype": "text/x-python",
   "name": "python",
   "nbconvert_exporter": "python",
   "pygments_lexer": "ipython3",
   "version": "3.10.0"
  }
 },
 "nbformat": 4,
 "nbformat_minor": 2
}
