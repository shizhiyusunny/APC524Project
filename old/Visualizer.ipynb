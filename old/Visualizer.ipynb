{
 "cells": [
  {
   "cell_type": "code",
   "execution_count": null,
   "metadata": {},
   "outputs": [],
   "source": [
    "from fenics import *\n",
    "import numpy as np\n",
    "class Visualizer:\n",
    "    def VisualizeMesh(mesh):\n",
    "        plot(mesh,linewidth=0.3)\n",
    "        plt.show()\n",
    "        return 1\n",
    "    def VisualizeDisplacement(u,mesh):\n",
    "        VisulaizeMesh(mesh)\n",
    "        plot(u,mode='color')"
   ]
  }
 ],
 "metadata": {
  "kernelspec": {
   "display_name": "femtastic [~/.conda/envs/femtastic/]",
   "language": "python",
   "name": "conda_femtastic"
  },
  "language_info": {
   "codemirror_mode": {
    "name": "ipython",
    "version": 3
   },
   "file_extension": ".py",
   "mimetype": "text/x-python",
   "name": "python",
   "nbconvert_exporter": "python",
   "pygments_lexer": "ipython3",
   "version": "3.10.0"
  }
 },
 "nbformat": 4,
 "nbformat_minor": 2
}
