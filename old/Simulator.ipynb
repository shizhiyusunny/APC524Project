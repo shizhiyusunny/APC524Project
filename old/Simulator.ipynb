{
 "cells": [
  {
   "cell_type": "code",
   "execution_count": null,
   "metadata": {},
   "outputs": [],
   "source": [
    "from fenics import *\n",
    "import numpy as np\n",
    "import constant as cst #Access to constant\n",
    "class Simulator:\n",
    "    def __init__(self,mesh):\n",
    "        self.mesh=mesh\n",
    "        self.strain=None\n",
    "        self.stress=None\n",
    "        self.disp=None\n",
    "    def setFunctionSpace(self):\n",
    "        degreeElements = 1\n",
    "        P1 = FiniteElement('Lagrange', self.mesh.ufl_cell(), degreeElements)\n",
    "        R = FiniteElement('Real', self.mesh.ufl_cell(), 0)\n",
    "        MFS = FunctionSpace(self.mesh, MixedElement([(P1*P1),(R*R),R]))\n",
    "        return MFS\n",
    "    def straincalc(u):\n",
    "        strain=sym(grad(u))\n",
    "        return strain\n",
    "    def stresscalc(u):\n",
    "        stress=2*cst.mu*epsilon(u) + cst.lambda*tr(epsilon(u))*Identity(cst.d) # Assume we know mu, lambda, and d from global constants\n",
    "        return stress\n",
    "    def dispcalc(u):\n",
    "        VFS = VectorFunctionSpace(mesh, 'Lagrange', 1)\n",
    "        disp=project(u, VFS)\n",
    "        return disp\n",
    "    def stepForward(self, Res):\n",
    "        MFS=setFunctionSpace()\n",
    "        f = Function(MFS)\n",
    "        tf = TestFunction(MFS)\n",
    "        solve(Res == 0, f, tf)\n",
    "        u, c_trans, c_rot = split(f)\n",
    "        self.strain=straincalc(u)\n",
    "        self.stress=stresscalc(u)\n",
    "        self.disp=dispcalc(u)\n",
    "        return u, c_trans, c_rot, self.strain, self.stress, self.disp\n",
    "        "
   ]
  }
 ],
 "metadata": {
  "kernelspec": {
   "display_name": "femtastic [~/.conda/envs/femtastic/]",
   "language": "python",
   "name": "conda_femtastic"
  },
  "language_info": {
   "codemirror_mode": {
    "name": "ipython",
    "version": 3
   },
   "file_extension": ".py",
   "mimetype": "text/x-python",
   "name": "python",
   "nbconvert_exporter": "python",
   "pygments_lexer": "ipython3",
   "version": "3.10.0"
  }
 },
 "nbformat": 4,
 "nbformat_minor": 2
}
